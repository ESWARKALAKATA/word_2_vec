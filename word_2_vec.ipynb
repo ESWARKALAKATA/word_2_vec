{
 "cells": [
  {
   "cell_type": "markdown",
   "metadata": {},
   "source": [
    "# word to vec model"
   ]
  },
  {
   "cell_type": "code",
   "execution_count": 2,
   "metadata": {},
   "outputs": [],
   "source": [
    "import bs4 as bs\n",
    "import urllib.request\n",
    "import re\n",
    "import nltk\n",
    "#from gensim.models import Word2Vec\n",
    "import warnings\n",
    "warnings.filterwarnings(action='ignore', category=UserWarning, module='gensim')\n",
    "import gensim\n",
    "from gensim.models import Word2Vec"
   ]
  },
  {
   "cell_type": "code",
   "execution_count": 3,
   "metadata": {},
   "outputs": [],
   "source": [
    "\n",
    "scrapped_data = urllib.request.urlopen('https://en.wikipedia.org/wiki/Mahesh_Babu')"
   ]
  },
  {
   "cell_type": "code",
   "execution_count": 4,
   "metadata": {},
   "outputs": [],
   "source": [
    "article = scrapped_data.read()"
   ]
  },
  {
   "cell_type": "code",
   "execution_count": 9,
   "metadata": {},
   "outputs": [],
   "source": [
    "parsed_article = bs.BeautifulSoup(article,'lxml')\n",
    "para = parsed_article.find_all('p')"
   ]
  },
  {
   "cell_type": "code",
   "execution_count": 15,
   "metadata": {},
   "outputs": [],
   "source": [
    "article_text = \"\"\n",
    "\n",
    "for p in para:\n",
    "    article_text += p.text\n"
   ]
  },
  {
   "cell_type": "code",
   "execution_count": 16,
   "metadata": {},
   "outputs": [],
   "source": [
    "# Cleaing the text\n",
    "processed_article = article_text.lower()\n",
    "processed_article = re.sub('[^a-zA-Z]', ' ', processed_article )\n",
    "processed_article = re.sub(r'\\s+', ' ', processed_article)"
   ]
  },
  {
   "cell_type": "code",
   "execution_count": 17,
   "metadata": {},
   "outputs": [],
   "source": [
    "# Preparing the dataset\n",
    "all_sentences = nltk.sent_tokenize(processed_article)\n",
    "\n",
    "all_words = [nltk.word_tokenize(sent) for sent in all_sentences]"
   ]
  },
  {
   "cell_type": "code",
   "execution_count": 18,
   "metadata": {},
   "outputs": [],
   "source": [
    "# Removing Stop Words\n",
    "from nltk.corpus import stopwords\n",
    "for i in range(len(all_words)):\n",
    "    all_words[i] = [w for w in all_words[i] if w not in stopwords.words('english')]\n"
   ]
  },
  {
   "cell_type": "markdown",
   "metadata": {},
   "source": [
    "# Creating Word2Vec Model"
   ]
  },
  {
   "cell_type": "code",
   "execution_count": 21,
   "metadata": {},
   "outputs": [],
   "source": [
    "\n",
    "word2vec = Word2Vec(all_words, min_count=2)  # min count min freq = 2"
   ]
  },
  {
   "cell_type": "markdown",
   "metadata": {},
   "source": [
    "\n",
    "## you will see a list of all the unique words occurring at least twice"
   ]
  },
  {
   "cell_type": "code",
   "execution_count": 24,
   "metadata": {},
   "outputs": [
    {
     "name": "stdout",
     "output_type": "stream",
     "text": [
      "{'ghattamaneni': <gensim.models.keyedvectors.Vocab object at 0x0000019B4A7169A0>, 'mahesh': <gensim.models.keyedvectors.Vocab object at 0x0000019B4A716640>, 'babu': <gensim.models.keyedvectors.Vocab object at 0x0000019B4A716AC0>, 'born': <gensim.models.keyedvectors.Vocab object at 0x0000019B4A716250>, 'august': <gensim.models.keyedvectors.Vocab object at 0x0000019B4A716160>, 'indian': <gensim.models.keyedvectors.Vocab object at 0x0000019B4A716790>, 'film': <gensim.models.keyedvectors.Vocab object at 0x0000019B4A7169D0>, 'actor': <gensim.models.keyedvectors.Vocab object at 0x0000019B4A7160A0>, 'media': <gensim.models.keyedvectors.Vocab object at 0x0000019B4A716280>, 'philanthropist': <gensim.models.keyedvectors.Vocab object at 0x0000019B4A716100>, 'one': <gensim.models.keyedvectors.Vocab object at 0x0000019B4A7168B0>, 'highest': <gensim.models.keyedvectors.Vocab object at 0x0000019B4A7161C0>, 'paid': <gensim.models.keyedvectors.Vocab object at 0x0000019B4A716A30>, 'telugu': <gensim.models.keyedvectors.Vocab object at 0x0000019B4A716670>, 'actors': <gensim.models.keyedvectors.Vocab object at 0x0000019B4A7165B0>, 'appeared': <gensim.models.keyedvectors.Vocab object at 0x0000019B4A716610>, 'films': <gensim.models.keyedvectors.Vocab object at 0x0000019B4A716580>, 'several': <gensim.models.keyedvectors.Vocab object at 0x0000019B4A716460>, 'including': <gensim.models.keyedvectors.Vocab object at 0x0000019B4A7164C0>, 'eight': <gensim.models.keyedvectors.Vocab object at 0x0000019B4A716520>, 'nandi': <gensim.models.keyedvectors.Vocab object at 0x0000019B4A7162E0>, 'awards': <gensim.models.keyedvectors.Vocab object at 0x0000019B4A716190>, 'five': <gensim.models.keyedvectors.Vocab object at 0x0000019B4A7164F0>, 'filmfare': <gensim.models.keyedvectors.Vocab object at 0x0000019B4A716880>, 'three': <gensim.models.keyedvectors.Vocab object at 0x0000019B4A716970>, 'south': <gensim.models.keyedvectors.Vocab object at 0x0000019B4A716B50>, 'international': <gensim.models.keyedvectors.Vocab object at 0x0000019B4A716BB0>, 'movie': <gensim.models.keyedvectors.Vocab object at 0x0000019B4A716C10>, 'award': <gensim.models.keyedvectors.Vocab object at 0x0000019B4A716C70>, 'also': <gensim.models.keyedvectors.Vocab object at 0x0000019B4A716CD0>, 'production': <gensim.models.keyedvectors.Vocab object at 0x0000019B4A716D30>, 'g': <gensim.models.keyedvectors.Vocab object at 0x0000019B4A716D90>, 'entertainment': <gensim.models.keyedvectors.Vocab object at 0x0000019B4A716DF0>, 'younger': <gensim.models.keyedvectors.Vocab object at 0x0000019B4A716E50>, 'krishna': <gensim.models.keyedvectors.Vocab object at 0x0000019B4A716EB0>, 'made': <gensim.models.keyedvectors.Vocab object at 0x0000019B4A716F10>, 'debut': <gensim.models.keyedvectors.Vocab object at 0x0000019B4A716F70>, 'child': <gensim.models.keyedvectors.Vocab object at 0x0000019B4A716FD0>, 'artist': <gensim.models.keyedvectors.Vocab object at 0x0000019B4A71A070>, 'role': <gensim.models.keyedvectors.Vocab object at 0x0000019B4A71A0D0>, 'needa': <gensim.models.keyedvectors.Vocab object at 0x0000019B4A71A130>, 'age': <gensim.models.keyedvectors.Vocab object at 0x0000019B4A71A190>, 'four': <gensim.models.keyedvectors.Vocab object at 0x0000019B4A71A1F0>, 'acted': <gensim.models.keyedvectors.Vocab object at 0x0000019B4A71A250>, 'lead': <gensim.models.keyedvectors.Vocab object at 0x0000019B4A71A2B0>, 'best': <gensim.models.keyedvectors.Vocab object at 0x0000019B4A71A310>, 'male': <gensim.models.keyedvectors.Vocab object at 0x0000019B4A71A370>, 'drama': <gensim.models.keyedvectors.Vocab object at 0x0000019B4A71A3D0>, 'murari': <gensim.models.keyedvectors.Vocab object at 0x0000019B4A71A430>, 'action': <gensim.models.keyedvectors.Vocab object at 0x0000019B4A71A490>, 'okkadu': <gensim.models.keyedvectors.Vocab object at 0x0000019B4A71A4F0>, 'went': <gensim.models.keyedvectors.Vocab object at 0x0000019B4A71A550>, 'act': <gensim.models.keyedvectors.Vocab object at 0x0000019B4A71A5B0>, 'commercially': <gensim.models.keyedvectors.Vocab object at 0x0000019B4A71A610>, 'successful': <gensim.models.keyedvectors.Vocab object at 0x0000019B4A71A670>, 'athadu': <gensim.models.keyedvectors.Vocab object at 0x0000019B4A71A6D0>, 'pokiri': <gensim.models.keyedvectors.Vocab object at 0x0000019B4A71A730>, 'dookudu': <gensim.models.keyedvectors.Vocab object at 0x0000019B4A71A790>, 'businessman': <gensim.models.keyedvectors.Vocab object at 0x0000019B4A71A7F0>, 'seethamma': <gensim.models.keyedvectors.Vocab object at 0x0000019B4A71A850>, 'vakitlo': <gensim.models.keyedvectors.Vocab object at 0x0000019B4A71A8B0>, 'sirimalle': <gensim.models.keyedvectors.Vocab object at 0x0000019B4A71A910>, 'chettu': <gensim.models.keyedvectors.Vocab object at 0x0000019B4A71A970>, 'nenokkadine': <gensim.models.keyedvectors.Vocab object at 0x0000019B4A71A9D0>, 'srimanthudu': <gensim.models.keyedvectors.Vocab object at 0x0000019B4A71AA30>, 'bharat': <gensim.models.keyedvectors.Vocab object at 0x0000019B4A71AA90>, 'ane': <gensim.models.keyedvectors.Vocab object at 0x0000019B4A71AAF0>, 'nenu': <gensim.models.keyedvectors.Vocab object at 0x0000019B4A71AB50>, 'maharshi': <gensim.models.keyedvectors.Vocab object at 0x0000019B4A71ABB0>, 'sarileru': <gensim.models.keyedvectors.Vocab object at 0x0000019B4A71AC10>, 'neekevvaru': <gensim.models.keyedvectors.Vocab object at 0x0000019B4A71AC70>, 'held': <gensim.models.keyedvectors.Vocab object at 0x0000019B4A71ACD0>, 'record': <gensim.models.keyedvectors.Vocab object at 0x0000019B4A71AD30>, 'grossing': <gensim.models.keyedvectors.Vocab object at 0x0000019B4A71AD90>, 'collected': <gensim.models.keyedvectors.Vocab object at 0x0000019B4A71ADF0>, 'billion': <gensim.models.keyedvectors.Vocab object at 0x0000019B4A71AE50>, 'box': <gensim.models.keyedvectors.Vocab object at 0x0000019B4A71AEB0>, 'office': <gensim.models.keyedvectors.Vocab object at 0x0000019B4A71AF10>, 'prince': <gensim.models.keyedvectors.Vocab object at 0x0000019B4A71AF70>, 'popular': <gensim.models.keyedvectors.Vocab object at 0x0000019B4A71AFD0>, 'cinema': <gensim.models.keyedvectors.Vocab object at 0x0000019B4A71C070>, 'superstar': <gensim.models.keyedvectors.Vocab object at 0x0000019B4A71C0D0>, 'fans': <gensim.models.keyedvectors.Vocab object at 0x0000019B4A71C130>, 'non': <gensim.models.keyedvectors.Vocab object at 0x0000019B4A71C190>, 'profit': <gensim.models.keyedvectors.Vocab object at 0x0000019B4A71C1F0>, 'organisation': <gensim.models.keyedvectors.Vocab object at 0x0000019B4A71C250>, 'heal': <gensim.models.keyedvectors.Vocab object at 0x0000019B4A71C2B0>, 'rainbow': <gensim.models.keyedvectors.Vocab object at 0x0000019B4A71C310>, 'hospitals': <gensim.models.keyedvectors.Vocab object at 0x0000019B4A71C370>, 'goodwill': <gensim.models.keyedvectors.Vocab object at 0x0000019B4A71C3D0>, 'ambassador': <gensim.models.keyedvectors.Vocab object at 0x0000019B4A71C430>, 'along': <gensim.models.keyedvectors.Vocab object at 0x0000019B4A71C490>, 'seven': <gensim.models.keyedvectors.Vocab object at 0x0000019B4A71C4F0>, 'madras': <gensim.models.keyedvectors.Vocab object at 0x0000019B4A71C550>, 'chennai': <gensim.models.keyedvectors.Vocab object at 0x0000019B4A71C5B0>, 'tamil': <gensim.models.keyedvectors.Vocab object at 0x0000019B49ED17C0>, 'india': <gensim.models.keyedvectors.Vocab object at 0x0000019B49ED18B0>, 'fourth': <gensim.models.keyedvectors.Vocab object at 0x0000019B4A445A90>, 'children': <gensim.models.keyedvectors.Vocab object at 0x0000019B4A71C610>, 'ramesh': <gensim.models.keyedvectors.Vocab object at 0x0000019B4A71C670>, 'padmavathi': <gensim.models.keyedvectors.Vocab object at 0x0000019B4A71C6D0>, 'manjula': <gensim.models.keyedvectors.Vocab object at 0x0000019B4A71C730>, 'priyadarshini': <gensim.models.keyedvectors.Vocab object at 0x0000019B4A71C790>, 'grandmother': <gensim.models.keyedvectors.Vocab object at 0x0000019B4A71C7F0>, 'commitments': <gensim.models.keyedvectors.Vocab object at 0x0000019B4A71C850>, 'used': <gensim.models.keyedvectors.Vocab object at 0x0000019B4A71C8B0>, 'performance': <gensim.models.keyedvectors.Vocab object at 0x0000019B4A71C910>, 'vgp': <gensim.models.keyedvectors.Vocab object at 0x0000019B4A71C970>, 'time': <gensim.models.keyedvectors.Vocab object at 0x0000019B4A71C9D0>, 'sure': <gensim.models.keyedvectors.Vocab object at 0x0000019B4A71CA30>, 'would': <gensim.models.keyedvectors.Vocab object at 0x0000019B4A71CA90>, 'conducted': <gensim.models.keyedvectors.Vocab object at 0x0000019B4A71CAF0>, 'ensure': <gensim.models.keyedvectors.Vocab object at 0x0000019B4A71CB50>, 'st': <gensim.models.keyedvectors.Vocab object at 0x0000019B4A71CBB0>, 'said': <gensim.models.keyedvectors.Vocab object at 0x0000019B4A71CC10>, 'close': <gensim.models.keyedvectors.Vocab object at 0x0000019B4A71CC70>, 'college': <gensim.models.keyedvectors.Vocab object at 0x0000019B4A71CCD0>, 'director': <gensim.models.keyedvectors.Vocab object at 0x0000019B4A71CD30>, 'acting': <gensim.models.keyedvectors.Vocab object at 0x0000019B4A71CD90>, 'months': <gensim.models.keyedvectors.Vocab object at 0x0000019B4A71CDF0>, 'phase': <gensim.models.keyedvectors.Vocab object at 0x0000019B4A71CE50>, 'sets': <gensim.models.keyedvectors.Vocab object at 0x0000019B4A71CEB0>, 'rao': <gensim.models.keyedvectors.Vocab object at 0x0000019B4A71CF10>, 'shot': <gensim.models.keyedvectors.Vocab object at 0x0000019B4A71CF70>, 'sequences': <gensim.models.keyedvectors.Vocab object at 0x0000019B4A71CFD0>, 'part': <gensim.models.keyedvectors.Vocab object at 0x0000019B4A71B070>, 'former': <gensim.models.keyedvectors.Vocab object at 0x0000019B4A71B0D0>, 'brother': <gensim.models.keyedvectors.Vocab object at 0x0000019B4A71B130>, 'marked': <gensim.models.keyedvectors.Vocab object at 0x0000019B4A71B190>, 'shoot': <gensim.models.keyedvectors.Vocab object at 0x0000019B4A71B1F0>, 'ramakrishna': <gensim.models.keyedvectors.Vocab object at 0x0000019B4A71B250>, 'cast': <gensim.models.keyedvectors.Vocab object at 0x0000019B4A71B2B0>, 'played': <gensim.models.keyedvectors.Vocab object at 0x0000019B4A71B310>, 'later': <gensim.models.keyedvectors.Vocab object at 0x0000019B4A71B370>, 'directed': <gensim.models.keyedvectors.Vocab object at 0x0000019B4A71B3D0>, 'k': <gensim.models.keyedvectors.Vocab object at 0x0000019B4A71B430>, 'co': <gensim.models.keyedvectors.Vocab object at 0x0000019B4A71B490>, 'starring': <gensim.models.keyedvectors.Vocab object at 0x0000019B4A71B4F0>, 'began': <gensim.models.keyedvectors.Vocab object at 0x0000019B4A71B550>, 'title': <gensim.models.keyedvectors.Vocab object at 0x0000019B4A71B5B0>, 'received': <gensim.models.keyedvectors.Vocab object at 0x0000019B4A71B610>, 'starred': <gensim.models.keyedvectors.Vocab object at 0x0000019B4A71B670>, 'two': <gensim.models.keyedvectors.Vocab object at 0x0000019B4A71B6D0>, 'following': <gensim.models.keyedvectors.Vocab object at 0x0000019B4A71B730>, 'year': <gensim.models.keyedvectors.Vocab object at 0x0000019B4A71B790>, 'vamsi': <gensim.models.keyedvectors.Vocab object at 0x0000019B4A71B7F0>, 'next': <gensim.models.keyedvectors.Vocab object at 0x0000019B4A71B850>, 'called': <gensim.models.keyedvectors.Vocab object at 0x0000019B4A71B8B0>, 'career': <gensim.models.keyedvectors.Vocab object at 0x0000019B4A71B910>, 'commercial': <gensim.models.keyedvectors.Vocab object at 0x0000019B4A71B970>, 'success': <gensim.models.keyedvectors.Vocab object at 0x0000019B4A71B9D0>, 'earned': <gensim.models.keyedvectors.Vocab object at 0x0000019B4A71BA30>, 'special': <gensim.models.keyedvectors.Vocab object at 0x0000019B4A71BA90>, 'jury': <gensim.models.keyedvectors.Vocab object at 0x0000019B4A71BAF0>, 'though': <gensim.models.keyedvectors.Vocab object at 0x0000019B4A71BB50>, 'releases': <gensim.models.keyedvectors.Vocab object at 0x0000019B4A71BBB0>, 'second': <gensim.models.keyedvectors.Vocab object at 0x0000019B4A71BC10>, 'first': <gensim.models.keyedvectors.Vocab object at 0x0000019B4A71BC70>, 'gunasekhar': <gensim.models.keyedvectors.Vocab object at 0x0000019B4A71BCD0>, 'crores': <gensim.models.keyedvectors.Vocab object at 0x0000019B4A71BD30>, 'release': <gensim.models.keyedvectors.Vocab object at 0x0000019B4A71BD90>, 'system': <gensim.models.keyedvectors.Vocab object at 0x0000019B4A71BDF0>, 'failure': <gensim.models.keyedvectors.Vocab object at 0x0000019B4A71BE50>, 'praise': <gensim.models.keyedvectors.Vocab object at 0x0000019B4A71BEB0>, 'critics': <gensim.models.keyedvectors.Vocab object at 0x0000019B4A71BF10>, 'calling': <gensim.models.keyedvectors.Vocab object at 0x0000019B4A71BF70>, 'watch': <gensim.models.keyedvectors.Vocab object at 0x0000019B4A71BFD0>, 'produced': <gensim.models.keyedvectors.Vocab object at 0x0000019B4A71D070>, 'naani': <gensim.models.keyedvectors.Vocab object at 0x0000019B4A71D0D0>, 'surya': <gensim.models.keyedvectors.Vocab object at 0x0000019B4A71D130>, 'version': <gensim.models.keyedvectors.Vocab object at 0x0000019B4A71D190>, 'flopped': <gensim.models.keyedvectors.Vocab object at 0x0000019B4A71D1F0>, 'arjun': <gensim.models.keyedvectors.Vocab object at 0x0000019B4A71D250>, 'took': <gensim.models.keyedvectors.Vocab object at 0x0000019B4A71D2B0>, 'break': <gensim.models.keyedvectors.Vocab object at 0x0000019B4A71D310>, 'trivikram': <gensim.models.keyedvectors.Vocab object at 0x0000019B4A71D370>, 'srinivas': <gensim.models.keyedvectors.Vocab object at 0x0000019B4A71D3D0>, 'trisha': <gensim.models.keyedvectors.Vocab object at 0x0000019B4A71D430>, 'whose': <gensim.models.keyedvectors.Vocab object at 0x0000019B4A71D490>, 'script': <gensim.models.keyedvectors.Vocab object at 0x0000019B4A71D4F0>, 'approved': <gensim.models.keyedvectors.Vocab object at 0x0000019B4A71D550>, 'became': <gensim.models.keyedvectors.Vocab object at 0x0000019B4A71D5B0>, 'venture': <gensim.models.keyedvectors.Vocab object at 0x0000019B4A71D610>, 'share': <gensim.models.keyedvectors.Vocab object at 0x0000019B4A71D670>, 'collaborated': <gensim.models.keyedvectors.Vocab object at 0x0000019B4A71D6D0>, 'puri': <gensim.models.keyedvectors.Vocab object at 0x0000019B4A71D730>, 'jagannadh': <gensim.models.keyedvectors.Vocab object at 0x0000019B4A71D790>, 'budget': <gensim.models.keyedvectors.Vocab object at 0x0000019B4A71D7F0>, 'million': <gensim.models.keyedvectors.Vocab object at 0x0000019B4A71D850>, 'end': <gensim.models.keyedvectors.Vocab object at 0x0000019B4A71D8B0>, 'run': <gensim.models.keyedvectors.Vocab object at 0x0000019B4A71D910>, 'th': <gensim.models.keyedvectors.Vocab object at 0x0000019B4A71D970>, 'sunita': <gensim.models.keyedvectors.Vocab object at 0x0000019B4A71D9D0>, 'chowdary': <gensim.models.keyedvectors.Vocab object at 0x0000019B4A71DA30>, 'hindu': <gensim.models.keyedvectors.Vocab object at 0x0000019B4A71DA90>, 'star': <gensim.models.keyedvectors.Vocab object at 0x0000019B4A71DAF0>, 'grossed': <gensim.models.keyedvectors.Vocab object at 0x0000019B4A71DB50>, 'released': <gensim.models.keyedvectors.Vocab object at 0x0000019B4A71DBB0>, 'amid': <gensim.models.keyedvectors.Vocab object at 0x0000019B4A71DC10>, 'huge': <gensim.models.keyedvectors.Vocab object at 0x0000019B4A71DC70>, 'expectations': <gensim.models.keyedvectors.Vocab object at 0x0000019B4A71DCD0>, 'athidhi': <gensim.models.keyedvectors.Vocab object at 0x0000019B4A71DD30>, 'marking': <gensim.models.keyedvectors.Vocab object at 0x0000019B4A71DD90>, 'provided': <gensim.models.keyedvectors.Vocab object at 0x0000019B4A71DDF0>, 'voice': <gensim.models.keyedvectors.Vocab object at 0x0000019B4A71DE50>, 'signed': <gensim.models.keyedvectors.Vocab object at 0x0000019B4A71DEB0>, 'khaleja': <gensim.models.keyedvectors.Vocab object at 0x0000019B4A71DF10>, 'years': <gensim.models.keyedvectors.Vocab object at 0x0000019B4A71DF70>, 'due': <gensim.models.keyedvectors.Vocab object at 0x0000019B4A71DFD0>, 'namrata': <gensim.models.keyedvectors.Vocab object at 0x0000019B4A71E070>, 'parents': <gensim.models.keyedvectors.Vocab object at 0x0000019B4A71E0D0>, 'upon': <gensim.models.keyedvectors.Vocab object at 0x0000019B4A71E130>, 'mixed': <gensim.models.keyedvectors.Vocab object at 0x0000019B4A71E190>, 'reviews': <gensim.models.keyedvectors.Vocab object at 0x0000019B4A71E1F0>, 'however': <gensim.models.keyedvectors.Vocab object at 0x0000019B4A71E250>, 'srinu': <gensim.models.keyedvectors.Vocab object at 0x0000019B4A71E2B0>, 'vaitla': <gensim.models.keyedvectors.Vocab object at 0x0000019B4A71E310>, 'good': <gensim.models.keyedvectors.Vocab object at 0x0000019B4A71E370>, 'samantha': <gensim.models.keyedvectors.Vocab object at 0x0000019B4A71E3D0>, 'ruth': <gensim.models.keyedvectors.Vocab object at 0x0000019B4A71E430>, 'prabhu': <gensim.models.keyedvectors.Vocab object at 0x0000019B4A71E490>, 'positive': <gensim.models.keyedvectors.Vocab object at 0x0000019B4A71E4F0>, 'opening': <gensim.models.keyedvectors.Vocab object at 0x0000019B4A71E550>, 'gross': <gensim.models.keyedvectors.Vocab object at 0x0000019B4A71E5B0>, 'day': <gensim.models.keyedvectors.Vocab object at 0x0000019B4A71E610>, 'times': <gensim.models.keyedvectors.Vocab object at 0x0000019B4A71E670>, 'hit': <gensim.models.keyedvectors.Vocab object at 0x0000019B4A71E6D0>, 'ceremony': <gensim.models.keyedvectors.Vocab object at 0x0000019B4A71E730>, 'ceremonies': <gensim.models.keyedvectors.Vocab object at 0x0000019B4A71E790>, 'income': <gensim.models.keyedvectors.Vocab object at 0x0000019B4A71E7F0>, 'remuneration': <gensim.models.keyedvectors.Vocab object at 0x0000019B4A71E850>, 'distributor': <gensim.models.keyedvectors.Vocab object at 0x0000019B4A71E8B0>, 'lifetime': <gensim.models.keyedvectors.Vocab object at 0x0000019B4A71E910>, 'kajal': <gensim.models.keyedvectors.Vocab object at 0x0000019B4A71E970>, 'aggarwal': <gensim.models.keyedvectors.Vocab object at 0x0000019B4A71E9D0>, 'straight': <gensim.models.keyedvectors.Vocab object at 0x0000019B4A71EA30>, 'global': <gensim.models.keyedvectors.Vocab object at 0x0000019B4A71EA90>, 'nomination': <gensim.models.keyedvectors.Vocab object at 0x0000019B4A71EAF0>, 'srikanth': <gensim.models.keyedvectors.Vocab object at 0x0000019B4A71EB50>, 'addala': <gensim.models.keyedvectors.Vocab object at 0x0000019B4A71EBB0>, 'daggubati': <gensim.models.keyedvectors.Vocab object at 0x0000019B4A71EC10>, 'january': <gensim.models.keyedvectors.Vocab object at 0x0000019B4A71EC70>, 'rd': <gensim.models.keyedvectors.Vocab object at 0x0000019B4A71ECD0>, 'celebrity': <gensim.models.keyedvectors.Vocab object at 0x0000019B4A71ED30>, 'around': <gensim.models.keyedvectors.Vocab object at 0x0000019B4A71ED90>, 'aagadu': <gensim.models.keyedvectors.Vocab object at 0x0000019B4A71EDF0>, 'pasupulate': <gensim.models.keyedvectors.Vocab object at 0x0000019B4A71EE50>, 'gave': <gensim.models.keyedvectors.Vocab object at 0x0000019B4A71EEB0>, 'added': <gensim.models.keyedvectors.Vocab object at 0x0000019B4A71EF10>, 'like': <gensim.models.keyedvectors.Vocab object at 0x0000019B4A71EF70>, 'much': <gensim.models.keyedvectors.Vocab object at 0x0000019B4A71EFD0>, 'koratala': <gensim.models.keyedvectors.Vocab object at 0x0000019B4A71F070>, 'siva': <gensim.models.keyedvectors.Vocab object at 0x0000019B4A71F0D0>, 'stated': <gensim.models.keyedvectors.Vocab object at 0x0000019B4A71F130>, 'becoming': <gensim.models.keyedvectors.Vocab object at 0x0000019B4A71F190>, 'announced': <gensim.models.keyedvectors.Vocab object at 0x0000019B4A71F1F0>, 'villages': <gensim.models.keyedvectors.Vocab object at 0x0000019B4A71F250>, 'telangana': <gensim.models.keyedvectors.Vocab object at 0x0000019B4A71F2B0>, 'andhra': <gensim.models.keyedvectors.Vocab object at 0x0000019B4A71F310>, 'pradesh': <gensim.models.keyedvectors.Vocab object at 0x0000019B4A71F370>, 'native': <gensim.models.keyedvectors.Vocab object at 0x0000019B4A71F3D0>, 'village': <gensim.models.keyedvectors.Vocab object at 0x0000019B4A71F430>, 'burripalem': <gensim.models.keyedvectors.Vocab object at 0x0000019B4A71F490>, 'criticised': <gensim.models.keyedvectors.Vocab object at 0x0000019B4A71F4F0>, 'chief': <gensim.models.keyedvectors.Vocab object at 0x0000019B4A71F550>, 'minister': <gensim.models.keyedvectors.Vocab object at 0x0000019B4A71F5B0>, 'crore': <gensim.models.keyedvectors.Vocab object at 0x0000019B4A71F610>, 'worldwide': <gensim.models.keyedvectors.Vocab object at 0x0000019B4A71F670>, 'hemanth': <gensim.models.keyedvectors.Vocab object at 0x0000019B4A71F6D0>, 'kumar': <gensim.models.keyedvectors.Vocab object at 0x0000019B4A71F730>, 'firstpost': <gensim.models.keyedvectors.Vocab object at 0x0000019B4A71F790>, 'mentioned': <gensim.models.keyedvectors.Vocab object at 0x0000019B4A71F7F0>, 'kidnap': <gensim.models.keyedvectors.Vocab object at 0x0000019B4A71F850>, 'joined': <gensim.models.keyedvectors.Vocab object at 0x0000019B4A71F8B0>, 'april': <gensim.models.keyedvectors.Vocab object at 0x0000019B4A71F910>, 'desirable': <gensim.models.keyedvectors.Vocab object at 0x0000019B4A71F970>, 'men': <gensim.models.keyedvectors.Vocab object at 0x0000019B4A71F9D0>, 'climbed': <gensim.models.keyedvectors.Vocab object at 0x0000019B4A71FA30>, 'position': <gensim.models.keyedvectors.Vocab object at 0x0000019B4A71FA90>, 'list': <gensim.models.keyedvectors.Vocab object at 0x0000019B4A71FAF0>, 'salman': <gensim.models.keyedvectors.Vocab object at 0x0000019B4A71FB50>, 'khan': <gensim.models.keyedvectors.Vocab object at 0x0000019B4A71FBB0>, 'shah': <gensim.models.keyedvectors.Vocab object at 0x0000019B4A71FC10>, 'rukh': <gensim.models.keyedvectors.Vocab object at 0x0000019B4A71FC70>, 'stood': <gensim.models.keyedvectors.Vocab object at 0x0000019B4A71FCD0>, 'sixth': <gensim.models.keyedvectors.Vocab object at 0x0000019B4A71FD30>, 'place': <gensim.models.keyedvectors.Vocab object at 0x0000019B4A71FD90>, 'akshay': <gensim.models.keyedvectors.Vocab object at 0x0000019B4A71FDF0>, 'brands': <gensim.models.keyedvectors.Vocab object at 0x0000019B4A71FE50>, 'endorsement': <gensim.models.keyedvectors.Vocab object at 0x0000019B4A71FEB0>, 'company': <gensim.models.keyedvectors.Vocab object at 0x0000019B4A71FF10>, 'thums': <gensim.models.keyedvectors.Vocab object at 0x0000019B4A71FF70>, 'chiranjeevi': <gensim.models.keyedvectors.Vocab object at 0x0000019B4A71FFD0>, 'brand': <gensim.models.keyedvectors.Vocab object at 0x0000019B4A721070>, 'endorsed': <gensim.models.keyedvectors.Vocab object at 0x0000019B4A7210D0>, 'figure': <gensim.models.keyedvectors.Vocab object at 0x0000019B4A721130>, 'per': <gensim.models.keyedvectors.Vocab object at 0x0000019B4A721190>, 'annum': <gensim.models.keyedvectors.Vocab object at 0x0000019B4A7211F0>, 'thus': <gensim.models.keyedvectors.Vocab object at 0x0000019B4A721250>, 'earning': <gensim.models.keyedvectors.Vocab object at 0x0000019B4A7212B0>, 'february': <gensim.models.keyedvectors.Vocab object at 0x0000019B4A721310>, 'annual': <gensim.models.keyedvectors.Vocab object at 0x0000019B4A721370>, 'earnings': <gensim.models.keyedvectors.Vocab object at 0x0000019B4A7213D0>, 'placed': <gensim.models.keyedvectors.Vocab object at 0x0000019B4A721430>, 'married': <gensim.models.keyedvectors.Vocab object at 0x0000019B4A721490>, 'boy': <gensim.models.keyedvectors.Vocab object at 0x0000019B4A7214F0>, 'named': <gensim.models.keyedvectors.Vocab object at 0x0000019B4A721550>, 'condition': <gensim.models.keyedvectors.Vocab object at 0x0000019B4A7215B0>, 'birth': <gensim.models.keyedvectors.Vocab object at 0x0000019B4A721610>, 'july': <gensim.models.keyedvectors.Vocab object at 0x0000019B4A721670>, 'stem': <gensim.models.keyedvectors.Vocab object at 0x0000019B4A7216D0>, 'better': <gensim.models.keyedvectors.Vocab object at 0x0000019B4A721730>, 'filmmaker': <gensim.models.keyedvectors.Vocab object at 0x0000019B4A721790>, 'vijaya': <gensim.models.keyedvectors.Vocab object at 0x0000019B4A7217F0>, 'nirmala': <gensim.models.keyedvectors.Vocab object at 0x0000019B4A721850>, 'step': <gensim.models.keyedvectors.Vocab object at 0x0000019B4A7218B0>, 'sister': <gensim.models.keyedvectors.Vocab object at 0x0000019B4A721910>, 'jayadev': <gensim.models.keyedvectors.Vocab object at 0x0000019B4A721970>, 'activities': <gensim.models.keyedvectors.Vocab object at 0x0000019B4A7219D0>, 'akhtar': <gensim.models.keyedvectors.Vocab object at 0x0000019B4A721A30>, 'donated': <gensim.models.keyedvectors.Vocab object at 0x0000019B4A721A90>, 'fund': <gensim.models.keyedvectors.Vocab object at 0x0000019B4A721AF0>, 'adopt': <gensim.models.keyedvectors.Vocab object at 0x0000019B4A721B50>, 'district': <gensim.models.keyedvectors.Vocab object at 0x0000019B4A721BB0>, 'september': <gensim.models.keyedvectors.Vocab object at 0x0000019B4A721C10>, 'cds': <gensim.models.keyedvectors.Vocab object at 0x0000019B4A721C70>, 'cases': <gensim.models.keyedvectors.Vocab object at 0x0000019B4A721CD0>, 'section': <gensim.models.keyedvectors.Vocab object at 0x0000019B4A721D30>, 'others': <gensim.models.keyedvectors.Vocab object at 0x0000019B4A721D90>, 'case': <gensim.models.keyedvectors.Vocab object at 0x0000019B4A721DF0>, 'booked': <gensim.models.keyedvectors.Vocab object at 0x0000019B4A721E50>, 'court': <gensim.models.keyedvectors.Vocab object at 0x0000019B4A721EB0>}\n"
     ]
    }
   ],
   "source": [
    "vocabulary = word2vec.wv.vocab\n",
    "print(vocabulary)"
   ]
  },
  {
   "cell_type": "markdown",
   "metadata": {},
   "source": [
    "# Model Analysis\n",
    "## Finding Vectors for a Word\n",
    "## view vector representation of any particular word"
   ]
  },
  {
   "cell_type": "code",
   "execution_count": 25,
   "metadata": {},
   "outputs": [],
   "source": [
    "v1 = word2vec.wv['mahesh']"
   ]
  },
  {
   "cell_type": "markdown",
   "metadata": {},
   "source": [
    "# Finding Similar Words"
   ]
  },
  {
   "cell_type": "code",
   "execution_count": 35,
   "metadata": {},
   "outputs": [],
   "source": [
    "sim_words = word2vec.wv.most_similar('srimanthudu')"
   ]
  },
  {
   "cell_type": "code",
   "execution_count": 36,
   "metadata": {},
   "outputs": [
    {
     "data": {
      "text/plain": [
       "[('criticised', 0.26077085733413696),\n",
       " ('vamsi', 0.2534821629524231),\n",
       " ('heal', 0.2529032528400421),\n",
       " ('later', 0.24966228008270264),\n",
       " ('hit', 0.24618566036224365),\n",
       " ('section', 0.23196586966514587),\n",
       " ('sarileru', 0.228862926363945),\n",
       " ('film', 0.213905930519104),\n",
       " ('used', 0.21267575025558472),\n",
       " ('played', 0.2068808227777481)]"
      ]
     },
     "execution_count": 36,
     "metadata": {},
     "output_type": "execute_result"
    }
   ],
   "source": [
    "sim_words"
   ]
  },
  {
   "cell_type": "code",
   "execution_count": null,
   "metadata": {},
   "outputs": [],
   "source": []
  }
 ],
 "metadata": {
  "kernelspec": {
   "display_name": "Python 3",
   "language": "python",
   "name": "python3"
  },
  "language_info": {
   "codemirror_mode": {
    "name": "ipython",
    "version": 3
   },
   "file_extension": ".py",
   "mimetype": "text/x-python",
   "name": "python",
   "nbconvert_exporter": "python",
   "pygments_lexer": "ipython3",
   "version": "3.9.1"
  }
 },
 "nbformat": 4,
 "nbformat_minor": 4
}
